{
 "cells": [
  {
   "cell_type": "markdown",
   "metadata": {},
   "source": [
    "# FAQ\n",
    "\n",
    "Unit == void\n",
    "\n",
    "\"var\" es una variable\n",
    "\n",
    "\"val\" es una constante\n",
    "\n",
    "\"def\" es una funcion"
   ]
  },
  {
   "cell_type": "markdown",
   "metadata": {},
   "source": [
    "## Funciones impuras"
   ]
  },
  {
   "cell_type": "code",
   "execution_count": null,
   "metadata": {},
   "outputs": [],
   "source": [
    "var texto: String = \"hola\"\n",
    "\n",
    "def agregaNombre(nombre: String): Unit = {\n",
    "    texto = texto + \" \" + nombre\n",
    "}\n",
    "\n",
    "println(texto)\n",
    "agregaNombre(\"Onka\")\n",
    "println(texto)"
   ]
  },
  {
   "cell_type": "markdown",
   "metadata": {},
   "source": [
    "## Funciones puras"
   ]
  },
  {
   "cell_type": "code",
   "execution_count": null,
   "metadata": {},
   "outputs": [],
   "source": [
    "def agregaNombre(texto: String, nombre: String): String = {\n",
    "    texto + \" \" + nombre\n",
    "}\n",
    "\n",
    "val texto: String = \"hola\"\n",
    "\n",
    "println(texto)\n",
    "println(agregaNombre(texto, \"Panda\"))\n",
    "println(texto)"
   ]
  },
  {
   "cell_type": "markdown",
   "metadata": {},
   "source": [
    "## Funciones como valor"
   ]
  },
  {
   "cell_type": "code",
   "execution_count": null,
   "metadata": {},
   "outputs": [],
   "source": [
    "def operacion(a: Int, b: Int): Int = a + b\n",
    "\n",
    "val suma: (Int, Int) => Int = operacion _\n",
    "\n",
    "suma(1,2)"
   ]
  },
  {
   "cell_type": "code",
   "execution_count": null,
   "metadata": {},
   "outputs": [],
   "source": [
    "val resta: (Int, Int) => Int = (a: Int, b: Int) => a - b\n",
    "resta(1, 2)"
   ]
  },
  {
   "cell_type": "code",
   "execution_count": null,
   "metadata": {},
   "outputs": [],
   "source": [
    "val operaciones: List[(Int, Int) => Int] = List(suma, resta)\n",
    "\n",
    "for(op <- operaciones){\n",
    "    val resultado: Int = op(1, 2)\n",
    "    \n",
    "    println(resultado)\n",
    "}"
   ]
  },
  {
   "cell_type": "markdown",
   "metadata": {},
   "source": [
    "## Funciones de alto orden"
   ]
  },
  {
   "cell_type": "code",
   "execution_count": null,
   "metadata": {},
   "outputs": [],
   "source": [
    "def operaImprime(valor: String, operacion: String => String): Unit = {\n",
    "    val resultado: String = operacion(valor)\n",
    "    println(resultado)\n",
    "}\n",
    "\n",
    "val mayusculas = (texto: String) => texto.toUpperCase\n",
    "val minusculas = (texto: String) => texto.toLowerCase\n",
    "\n",
    "operaImprime(\"QUIMERA\", minusculas)\n",
    "operaImprime(\"luismi\", mayusculas)"
   ]
  },
  {
   "cell_type": "markdown",
   "metadata": {},
   "source": [
    "## Funciones anonimas"
   ]
  },
  {
   "cell_type": "code",
   "execution_count": null,
   "metadata": {},
   "outputs": [],
   "source": [
    "operaImprime(\"Maxito\", texto => {\n",
    "    val largo: Int = texto.length\n",
    "    largo.toString\n",
    "})\n",
    "\n",
    "operaImprime(\"123456789\", _.map(_.toInt).reduce(_+_).toString)"
   ]
  },
  {
   "cell_type": "markdown",
   "metadata": {},
   "source": [
    "## Funciones parciales / currying"
   ]
  },
  {
   "cell_type": "code",
   "execution_count": null,
   "metadata": {},
   "outputs": [],
   "source": [
    "import javax.crypto.spec.{IvParameterSpec, SecretKeySpec}\n",
    "import javax.crypto.Cipher\n",
    "import java.util.Base64\n",
    "\n",
    "case class Llave(key: String, iv: String)\n",
    "\n",
    "val llaveChile = Llave(\"0123456789ABCDEF\", \"0123456789ABCDEF\")\n",
    "val llavePeru = Llave(\"FEDCBA9876543210\", \"FEDCBA9876543210\")"
   ]
  },
  {
   "cell_type": "code",
   "execution_count": null,
   "metadata": {},
   "outputs": [],
   "source": [
    "def crearEncriptador(key: String, iv:String) = (texto: String) =>\n",
    "    if (texto == null || texto.length < 2)\n",
    "        null\n",
    "    else {\n",
    "        val secretKey = new SecretKeySpec(key.getBytes, \"AES\")\n",
    "        val ivParam = new IvParameterSpec(iv.getBytes)\n",
    "\n",
    "        val cipher: Cipher = Cipher.getInstance(\"AES/CBC/PKCS5Padding\")\n",
    "        cipher.init(Cipher.ENCRYPT_MODE, secretKey, ivParam)\n",
    "\n",
    "        val encoded = Base64.getEncoder.encodeToString(cipher.doFinal(texto.getBytes))\n",
    "        encoded\n",
    "    }\n",
    "\n",
    "val encriptador = crearEncriptador(llaveChile.key, llaveChile.iv)\n",
    "val encriptado = encriptador(\"Canaima\")\n",
    "\n",
    "println(encriptado)"
   ]
  },
  {
   "cell_type": "code",
   "execution_count": null,
   "metadata": {},
   "outputs": [],
   "source": [
    "def crearEncriptador(key: String, iv:String) (texto: String) =\n",
    "    if (texto == null || texto.length < 2)\n",
    "        null\n",
    "    else {\n",
    "        val secretKey = new SecretKeySpec(key.getBytes, \"AES\")\n",
    "        val ivParam = new IvParameterSpec(iv.getBytes)\n",
    "\n",
    "        val cipher: Cipher = Cipher.getInstance(\"AES/CBC/PKCS5Padding\")\n",
    "        cipher.init(Cipher.ENCRYPT_MODE, secretKey, ivParam)\n",
    "\n",
    "        val encoded = Base64.getEncoder.encodeToString(cipher.doFinal(texto.getBytes))\n",
    "        encoded\n",
    "    }\n",
    "\n",
    "val encriptador = crearEncriptador(llaveChile.key, llaveChile.iv) _\n",
    "val encriptado = encriptador(\"Luismi\")\n",
    "println(encriptado)"
   ]
  },
  {
   "cell_type": "code",
   "execution_count": null,
   "metadata": {},
   "outputs": [],
   "source": [
    "val entidad = \"PE03123456789\"\n",
    "\n",
    "def multikey = crearEncriptador(_: String, _: String)(entidad)\n",
    "\n",
    "for(llave <- List(llaveChile, llavePeru)){\n",
    "    println(multikey(llave.key, llave.iv))\n",
    "}"
   ]
  },
  {
   "cell_type": "code",
   "execution_count": null,
   "metadata": {},
   "outputs": [],
   "source": []
  }
 ],
 "metadata": {
  "kernelspec": {
   "display_name": "Scala",
   "language": "scala",
   "name": "scala"
  },
  "language_info": {
   "codemirror_mode": "text/x-scala",
   "file_extension": ".sc",
   "mimetype": "text/x-scala",
   "name": "scala",
   "nbconvert_exporter": "script",
   "version": "2.12.10"
  }
 },
 "nbformat": 4,
 "nbformat_minor": 4
}
